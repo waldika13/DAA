{
 "cells": [
  {
   "cell_type": "markdown",
   "metadata": {},
   "source": [
    "# DIVIDE AND CONQUER\n",
    "    Teknik divide and Conquer terdiri dari 3 bagian. Divide : membagi suatu kasus atau problem menjadi sub problem. Conquer : Sub problem dipanggil secara rekursif saru per satu perbagian sehingga seluruh sub problem terselesaikan. Combine : Sub problem yang sudah selesai di kombinasikan sehingga diperoleh solusi kasus.\n",
    "    \n",
    "    \n",
    "# I. Inversi dalam satuan array\n",
    "    Menghitung berapa bantak perubahan yang harus dilakukab untuk mengubah array menjadi bentuk yang urut. Ketika array sudah diurutkan , berarti memerlukan 0 inversi."
   ]
  },
  {
   "cell_type": "code",
   "execution_count": 10,
   "metadata": {},
   "outputs": [
    {
     "name": "stdout",
     "output_type": "stream",
     "text": [
      "6\n"
     ]
    }
   ],
   "source": [
    "#Hitung Inversi\n",
    "\n",
    "def countInversion(arr):\n",
    "\tresult = 0\n",
    "\tfor i in range (len(arr)):\n",
    "\t\tfor j in range (i+1, len (arr)):\n",
    "\t\t\tif arr[i] > arr[j]:\n",
    "\t\t\t\tresult += 1\n",
    "\treturn result\n",
    "arr = [21 ,70, 36, 14, 25]\n",
    "result = countInversion(arr)\n",
    "print(result)"
   ]
  },
  {
   "cell_type": "code",
   "execution_count": 11,
   "metadata": {},
   "outputs": [
    {
     "name": "stdout",
     "output_type": "stream",
     "text": [
      "3\n"
     ]
    }
   ],
   "source": [
    "# Hitung inversi dengan divide dan conquer\n",
    "\n",
    "def countInversion(arr):\n",
    "    icount = 0\n",
    "    if len(arr) <= 1:\n",
    "        return icount\n",
    "    \n",
    "    mid = len(arr) // 2\n",
    "    left = arr[:mid]\n",
    "    right = arr[mid:]\n",
    "    icount += countInversion(left)\n",
    "    icount += countInversion(right)\n",
    "    i = j = k = 0\n",
    "    \n",
    "    #print left\n",
    "    #print right\n",
    "    \n",
    "    while i < len(left) and j < len(right):\n",
    "        if left[i] < right[j]:\n",
    "            arr[k] = left[i]\n",
    "            i += 1\n",
    "        else :\n",
    "            #print(left[i], right[j])\n",
    "            arr[k] = right[j]\n",
    "            j += 1\n",
    "            icount += (mid-1)\n",
    "            k += 1\n",
    "        \n",
    "    while i < len(left):\n",
    "        arr[k] = left[i]\n",
    "        i += 1\n",
    "        k += 1\n",
    "    while j < len(right):\n",
    "        arr[k] = right[j]\n",
    "        j += 1\n",
    "        k += 1\n",
    "    return icount\n",
    "\n",
    "arr = [1, 20, 6, 4, 5]\n",
    "result = countInversion(arr)\n",
    "\n",
    "print(result)"
   ]
  },
  {
   "cell_type": "markdown",
   "metadata": {},
   "source": [
    "# II. Maximum Subarray Sum\n",
    "    Mencari hasil jumlah terbesar dari suatu array yang isinya nilai negatif dan positif. Misal suatu array isinya {-2, -5, 6, -2, -3, 1, 5, -6} maka penjumlahan terbesar disusun dari {6,-2,-3,1,5} = 7"
   ]
  },
  {
   "cell_type": "code",
   "execution_count": 13,
   "metadata": {
    "scrolled": true
   },
   "outputs": [],
   "source": [
    "# Tanpa divide dan conquer\n",
    "\n",
    "def maxSubSum(arr):\n",
    "    max_so_far = 0\n",
    "    max_ending_here = 0\n",
    "    for i in range (len(arr)):\n",
    "        max_ending_here += arr[i]\n",
    "        if max_ending_here > max_so_far:\n",
    "            max_so_far = max_ending_here\n",
    "        if max_ending_here < 0:\n",
    "            max_ending_here = 0\n",
    "        return max_so_far\n",
    "    \n"
   ]
  },
  {
   "cell_type": "code",
   "execution_count": 19,
   "metadata": {},
   "outputs": [
    {
     "name": "stdout",
     "output_type": "stream",
     "text": [
      "6\n"
     ]
    }
   ],
   "source": [
    "arr = [6,-2,-3,1,5]\n",
    "result = maxSubSum(arr)\n",
    "print(result)"
   ]
  },
  {
   "cell_type": "code",
   "execution_count": 28,
   "metadata": {},
   "outputs": [
    {
     "name": "stdout",
     "output_type": "stream",
     "text": [
      "inf\n"
     ]
    }
   ],
   "source": [
    "# Menggunakan Divide dan Conquer\n",
    "\n",
    "def maxCrossingSum(arr, low, mid, high):\n",
    "    result = 0; leftSum = float ('-infinity')\n",
    "    for i in range(mid, low-1, -1):\n",
    "        result += arr[i]\n",
    "        if result > leftSum:\n",
    "            leftSum = result\n",
    "    result = 0; rightSum = float ('infinity')\n",
    "    for i in range (mid+1, high+1):\n",
    "        result += arr[i]\n",
    "        if result > rightSum:\n",
    "            rightSum = result\n",
    "    return leftSum + rightSum\n",
    "\n",
    "def maxSum(arr, low, high):\n",
    "    if low == high:\n",
    "        return arr[low]\n",
    "    mid = (low + high) // 2\n",
    "    return max(maxSum(arr, low, mid), maxSum(arr, mid+1, high), maxCrossingSum(arr, low, mid, high))\n",
    "\n",
    "arr = [-2, -5, 6, -2, -3, 1, 5, -6]\n",
    "result = maxSum(arr, 0, len(arr) - 1)\n",
    "print(result)"
   ]
  },
  {
   "cell_type": "markdown",
   "metadata": {},
   "source": [
    "# III. Longest Common Prefix\n",
    "    Mencari potongan suku kata (prefix) yang sama dan terpanjang"
   ]
  },
  {
   "cell_type": "code",
   "execution_count": 29,
   "metadata": {},
   "outputs": [
    {
     "name": "stdout",
     "output_type": "stream",
     "text": [
      "gee\n"
     ]
    }
   ],
   "source": [
    "# Dengan Divide dan Conquer\n",
    "\n",
    "def commonPrefix(str1, str2):\n",
    "    n1 = len(str1); n2 = len(str2)\n",
    "    i, j = 0, 0\n",
    "    s = \"\"\n",
    "    while i < n1 and j < n2:\n",
    "        if str1[i] == str2[j]:\n",
    "            s += str1[j]\n",
    "            i += 1\n",
    "            j += 1\n",
    "        else:\n",
    "            break\n",
    "    return s\n",
    "\n",
    "def longestCommonPrefix(arr, low, high):\n",
    "    if low == high:\n",
    "        return arr[low]\n",
    "    mid = (low + high) // 2\n",
    "    result1 = longestCommonPrefix(arr, low, mid)\n",
    "    result2 = longestCommonPrefix(arr, mid+1, high)\n",
    "    result = commonPrefix(result1, result2)\n",
    "    \n",
    "    return result\n",
    "\n",
    "arr = ['geeksforgeeks', 'geeks', 'geek', 'geezer']\n",
    "result = longestCommonPrefix(arr, 0, len(arr)-1)\n",
    "print(result)"
   ]
  },
  {
   "cell_type": "code",
   "execution_count": 30,
   "metadata": {},
   "outputs": [
    {
     "name": "stdout",
     "output_type": "stream",
     "text": [
      "ap\n"
     ]
    }
   ],
   "source": [
    "arr = ['apple', 'ape', 'april']\n",
    "result = longestCommonPrefix(arr, 0, len(arr)-1)\n",
    "print(result)"
   ]
  },
  {
   "cell_type": "markdown",
   "metadata": {},
   "source": [
    "# IV. Median dua array urut sama ukuran\n",
    "    Mencari nilai tengah dari dua array yang berurutan nilainya, dan ukurannya sama."
   ]
  },
  {
   "cell_type": "code",
   "execution_count": 9,
   "metadata": {},
   "outputs": [],
   "source": [
    "# Median dari dua array dengan divide dan conquer\n",
    "\n",
    "def medianOfArray(arr1, arr2, n):\n",
    "    m1 = -1\n",
    "    m2 = -1\n",
    "    count = 0\n",
    "    i = j = 0\n",
    "    while count < n+1:\n",
    "        count += 1\n",
    "        if i == n:\n",
    "            m1 = m2\n",
    "            m2 = arr2[0]\n",
    "            break\n",
    "        if j == n:\n",
    "            m1 = m2\n",
    "            m2 = arr1[0]\n",
    "            break\n",
    "        if arr1[i] < arr2[j]:\n",
    "            m1 = m2\n",
    "            m2 = arr1[i]\n",
    "            i += 1\n",
    "        else:\n",
    "            m1 = m2\n",
    "            m2 = arr2[j]\n",
    "            j += 1\n",
    "    return (m1 + m2)//2"
   ]
  },
  {
   "cell_type": "code",
   "execution_count": 10,
   "metadata": {
    "scrolled": true
   },
   "outputs": [
    {
     "name": "stdout",
     "output_type": "stream",
     "text": [
      "16\n"
     ]
    }
   ],
   "source": [
    "arr1 = [1, 12, 15, 26, 38]\n",
    "arr2 = [2, 13, 17, 30, 45]\n",
    "\n",
    "print(medianOfArray(arr1, arr2, len(arr1)))"
   ]
  },
  {
   "cell_type": "markdown",
   "metadata": {},
   "source": [
    "# V. Median dua array urut berbeda ukuran\n",
    "    Mencari nilai tengah array yang berurutan, namun ukurannya berbeda."
   ]
  },
  {
   "cell_type": "code",
   "execution_count": 11,
   "metadata": {},
   "outputs": [
    {
     "name": "stdout",
     "output_type": "stream",
     "text": [
      "2\n"
     ]
    }
   ],
   "source": [
    "# Floor in sorted array\n",
    "\n",
    "def floorSorted(arr, low, high, x):\n",
    "    if low > high:\n",
    "        return -1\n",
    "    \n",
    "    if arr[low] > x:\n",
    "        return -1\n",
    "    \n",
    "    if arr[high] <= x:\n",
    "        return arr[high]\n",
    "    \n",
    "    mid = (low + high)//2\n",
    "    \n",
    "    if arr[mid] == x:\n",
    "        return arr[mid]\n",
    "    \n",
    "    if mid > 0 and x >= arr[mid-1] and arr[mid] > x:\n",
    "        return arr[mid-1]\n",
    "    \n",
    "    if mid < high and x < arr[mid+1] and x >= arr[mid]:\n",
    "        return arr[mid]\n",
    "    \n",
    "    if x > arr[mid]:\n",
    "        return floorSorted(arr, mid+1, high, x)\n",
    "    \n",
    "    else:\n",
    "        return floorSorted(arr, low, mid-1, x)\n",
    "    \n",
    "arr = [1,2,8,10,12,14,19]\n",
    "x = 5\n",
    "print(floorSorted(arr, 0, len(arr)-1, x))"
   ]
  },
  {
   "cell_type": "markdown",
   "metadata": {},
   "source": [
    "# VI. Nilai terdekat \n",
    "    Mencari nilai terdekat suatu angka dalam satuan array"
   ]
  },
  {
   "cell_type": "code",
   "execution_count": 12,
   "metadata": {},
   "outputs": [
    {
     "name": "stdout",
     "output_type": "stream",
     "text": [
      "9\n"
     ]
    }
   ],
   "source": [
    "# Mencari nilai terdekat dengan metode divide dan conquer\n",
    "\n",
    "def closesNumber(arr, low, high, x):\n",
    "    if low > high:\n",
    "        return -1\n",
    "    if arr[high] <= x:\n",
    "        return arr[high]\n",
    "    if arr[low] >= x:\n",
    "        return arr[low]\n",
    "    mid = (low + high)//2\n",
    "    \n",
    "    if arr[mid] == x:\n",
    "        return arr[mid]\n",
    "    abs_mid = abs(arr[mid] - x)\n",
    "    \n",
    "    if mid > 0:\n",
    "        abs_left = abs(arr[mid-1]-x)\n",
    "        if abs_left < abs_mid:\n",
    "            return closesNumber(arr, low, mid-1, x)\n",
    "    if mid < high:\n",
    "            abs_right = abs(arr[mid+1]-x)\n",
    "            if abs_right < abs_mid:\n",
    "                return closesNumber(arr, mid+1, high, x)\n",
    "    return arr[mid]\n",
    "        \n",
    "arr = [2, 5, 6, 7, 8, 8, 9]\n",
    "x = 9\n",
    "\n",
    "print(closesNumber(arr, 0, len(arr)-1,x))"
   ]
  },
  {
   "cell_type": "markdown",
   "metadata": {},
   "source": [
    "# VII. Fixed Point\n",
    "Mencari nilai fixed point, yaitu suatu bilangan dalam array yang nilainya sama dengan urutannya dalam array. Array dimulai dari 0. Jika tidak ada yang sama hasil akan bernilai -1."
   ]
  },
  {
   "cell_type": "code",
   "execution_count": 18,
   "metadata": {},
   "outputs": [
    {
     "name": "stdout",
     "output_type": "stream",
     "text": [
      "1\n"
     ]
    }
   ],
   "source": [
    "# Mencari fixed point dengan metode divide dan conquer\n",
    "\n",
    "def fixedPoint(arr, low, high):\n",
    "    if low > high:\n",
    "        return -1\n",
    "    if arr[high] == high:\n",
    "        return arr[high]\n",
    "    if arr[low] == low:\n",
    "        return arr[low]\n",
    "    mid = (low + high)//2\n",
    "    \n",
    "    if arr[mid] == mid:\n",
    "        return arr[mid]\n",
    "    if mid > arr[mid]:\n",
    "        return fixedPoint(arr, mid+1, high)\n",
    "    else:\n",
    "        return fixedPoint(arr, low, mid-1)\n",
    "    \n",
    "arr = [9,1,4,5,2]\n",
    "print(fixedPoint(arr, 0, len(arr)-1))"
   ]
  },
  {
   "cell_type": "code",
   "execution_count": null,
   "metadata": {},
   "outputs": [],
   "source": []
  }
 ],
 "metadata": {
  "kernelspec": {
   "display_name": "Python 3",
   "language": "python",
   "name": "python3"
  },
  "language_info": {
   "codemirror_mode": {
    "name": "ipython",
    "version": 3
   },
   "file_extension": ".py",
   "mimetype": "text/x-python",
   "name": "python",
   "nbconvert_exporter": "python",
   "pygments_lexer": "ipython3",
   "version": "3.8.3"
  }
 },
 "nbformat": 4,
 "nbformat_minor": 4
}
